{
 "cells": [
  {
   "cell_type": "markdown",
   "metadata": {
    "collapsed": true
   },
   "source": [
    "# Initial setup"
   ]
  },
  {
   "cell_type": "code",
   "execution_count": 1,
   "metadata": {},
   "outputs": [],
   "source": [
    "import pandas as pd \n",
    "import seaborn as sns\n",
    "import matplotlib.pyplot as plt\n",
    "from pymongo import MongoClient\n",
    "sns.set(color_codes=True)"
   ]
  },
  {
   "cell_type": "markdown",
   "metadata": {},
   "source": [
    "# Connection to local database"
   ]
  },
  {
   "cell_type": "code",
   "execution_count": null,
   "metadata": {},
   "outputs": [],
   "source": [
    "connection = MongoClient()\n",
    "db = connection.test\n",
    "input_data = db.clients"
   ]
  },
  {
   "cell_type": "markdown",
   "metadata": {},
   "source": [
    "# Assign collection to a dataframe"
   ]
  },
  {
   "cell_type": "code",
   "execution_count": 3,
   "metadata": {},
   "outputs": [],
   "source": [
    "df = pd.DataFrame(list(input_data.find()))"
   ]
  },
  {
   "cell_type": "markdown",
   "metadata": {},
   "source": [
    "# Clean and explore data"
   ]
  },
  {
   "cell_type": "code",
   "execution_count": 4,
   "metadata": {},
   "outputs": [
    {
     "data": {
      "text/html": [
       "<div>\n",
       "<style scoped>\n",
       "    .dataframe tbody tr th:only-of-type {\n",
       "        vertical-align: middle;\n",
       "    }\n",
       "\n",
       "    .dataframe tbody tr th {\n",
       "        vertical-align: top;\n",
       "    }\n",
       "\n",
       "    .dataframe thead th {\n",
       "        text-align: right;\n",
       "    }\n",
       "</style>\n",
       "<table border=\"1\" class=\"dataframe\">\n",
       "  <thead>\n",
       "    <tr style=\"text-align: right;\">\n",
       "      <th></th>\n",
       "      <th>_id</th>\n",
       "      <th>documento</th>\n",
       "      <th>tipo_doc</th>\n",
       "      <th>categoria</th>\n",
       "      <th>mnt_trx_mm</th>\n",
       "      <th>num_trx</th>\n",
       "      <th>pct_mnt_tot</th>\n",
       "      <th>pct_num_trx_tot</th>\n",
       "    </tr>\n",
       "  </thead>\n",
       "  <tbody>\n",
       "    <tr>\n",
       "      <th>0</th>\n",
       "      <td>5e181059312bcb86cf876a43</td>\n",
       "      <td>-9220026565340510548</td>\n",
       "      <td>2</td>\n",
       "      <td>TRANSPORTE</td>\n",
       "      <td>7.950000</td>\n",
       "      <td>70</td>\n",
       "      <td>0.160356</td>\n",
       "      <td>0.216718</td>\n",
       "    </tr>\n",
       "    <tr>\n",
       "      <th>1</th>\n",
       "      <td>5e181059312bcb86cf876a44</td>\n",
       "      <td>-9221406660220722252</td>\n",
       "      <td>1</td>\n",
       "      <td>TRANSPORTE</td>\n",
       "      <td>0.340000</td>\n",
       "      <td>4</td>\n",
       "      <td>0.069246</td>\n",
       "      <td>0.250000</td>\n",
       "    </tr>\n",
       "    <tr>\n",
       "      <th>2</th>\n",
       "      <td>5e181059312bcb86cf876a45</td>\n",
       "      <td>-9220026565340510548</td>\n",
       "      <td>2</td>\n",
       "      <td>HOGAR</td>\n",
       "      <td>14.590000</td>\n",
       "      <td>33</td>\n",
       "      <td>0.294288</td>\n",
       "      <td>0.102167</td>\n",
       "    </tr>\n",
       "    <tr>\n",
       "      <th>3</th>\n",
       "      <td>5e181059312bcb86cf876a46</td>\n",
       "      <td>-9220026565340510548</td>\n",
       "      <td>2</td>\n",
       "      <td>SALUD Y CUIDADO PERSONAL</td>\n",
       "      <td>1.280000</td>\n",
       "      <td>12</td>\n",
       "      <td>0.025818</td>\n",
       "      <td>0.037152</td>\n",
       "    </tr>\n",
       "    <tr>\n",
       "      <th>4</th>\n",
       "      <td>5e181059312bcb86cf876a47</td>\n",
       "      <td>-9220026565340510548</td>\n",
       "      <td>2</td>\n",
       "      <td>TECNOLOGÍA Y COMUNICACIONES</td>\n",
       "      <td>0.490393</td>\n",
       "      <td>3</td>\n",
       "      <td>0.009891</td>\n",
       "      <td>0.009288</td>\n",
       "    </tr>\n",
       "  </tbody>\n",
       "</table>\n",
       "</div>"
      ],
      "text/plain": [
       "                        _id            documento  tipo_doc  \\\n",
       "0  5e181059312bcb86cf876a43 -9220026565340510548         2   \n",
       "1  5e181059312bcb86cf876a44 -9221406660220722252         1   \n",
       "2  5e181059312bcb86cf876a45 -9220026565340510548         2   \n",
       "3  5e181059312bcb86cf876a46 -9220026565340510548         2   \n",
       "4  5e181059312bcb86cf876a47 -9220026565340510548         2   \n",
       "\n",
       "                     categoria  mnt_trx_mm  num_trx  pct_mnt_tot  \\\n",
       "0                   TRANSPORTE    7.950000       70     0.160356   \n",
       "1                   TRANSPORTE    0.340000        4     0.069246   \n",
       "2                        HOGAR   14.590000       33     0.294288   \n",
       "3     SALUD Y CUIDADO PERSONAL    1.280000       12     0.025818   \n",
       "4  TECNOLOGÍA Y COMUNICACIONES    0.490393        3     0.009891   \n",
       "\n",
       "   pct_num_trx_tot  \n",
       "0         0.216718  \n",
       "1         0.250000  \n",
       "2         0.102167  \n",
       "3         0.037152  \n",
       "4         0.009288  "
      ]
     },
     "execution_count": 4,
     "metadata": {},
     "output_type": "execute_result"
    }
   ],
   "source": [
    "# In order to know the structure of the data it will be displayed the top and bottom rows\n",
    "# Display the top 5 rows\n",
    "df.head()"
   ]
  },
  {
   "cell_type": "code",
   "execution_count": 5,
   "metadata": {},
   "outputs": [
    {
     "data": {
      "text/html": [
       "<div>\n",
       "<style scoped>\n",
       "    .dataframe tbody tr th:only-of-type {\n",
       "        vertical-align: middle;\n",
       "    }\n",
       "\n",
       "    .dataframe tbody tr th {\n",
       "        vertical-align: top;\n",
       "    }\n",
       "\n",
       "    .dataframe thead th {\n",
       "        text-align: right;\n",
       "    }\n",
       "</style>\n",
       "<table border=\"1\" class=\"dataframe\">\n",
       "  <thead>\n",
       "    <tr style=\"text-align: right;\">\n",
       "      <th></th>\n",
       "      <th>_id</th>\n",
       "      <th>documento</th>\n",
       "      <th>tipo_doc</th>\n",
       "      <th>categoria</th>\n",
       "      <th>mnt_trx_mm</th>\n",
       "      <th>num_trx</th>\n",
       "      <th>pct_mnt_tot</th>\n",
       "      <th>pct_num_trx_tot</th>\n",
       "    </tr>\n",
       "  </thead>\n",
       "  <tbody>\n",
       "    <tr>\n",
       "      <th>149995</th>\n",
       "      <td>5e18105b312bcb86cf89b42e</td>\n",
       "      <td>9222457444389231440</td>\n",
       "      <td>1</td>\n",
       "      <td>HOGAR</td>\n",
       "      <td>1.060000</td>\n",
       "      <td>19</td>\n",
       "      <td>0.294444</td>\n",
       "      <td>0.316667</td>\n",
       "    </tr>\n",
       "    <tr>\n",
       "      <th>149996</th>\n",
       "      <td>5e18105b312bcb86cf89b42f</td>\n",
       "      <td>9222457444389231440</td>\n",
       "      <td>1</td>\n",
       "      <td>SALUD Y CUIDADO PERSONAL</td>\n",
       "      <td>0.810000</td>\n",
       "      <td>13</td>\n",
       "      <td>0.225000</td>\n",
       "      <td>0.216667</td>\n",
       "    </tr>\n",
       "    <tr>\n",
       "      <th>149997</th>\n",
       "      <td>5e18105b312bcb86cf89b430</td>\n",
       "      <td>9223184668084986768</td>\n",
       "      <td>1</td>\n",
       "      <td>COMIDA</td>\n",
       "      <td>0.825444</td>\n",
       "      <td>3</td>\n",
       "      <td>0.350146</td>\n",
       "      <td>0.066667</td>\n",
       "    </tr>\n",
       "    <tr>\n",
       "      <th>149998</th>\n",
       "      <td>5e18105b312bcb86cf89b431</td>\n",
       "      <td>9223184668084986768</td>\n",
       "      <td>1</td>\n",
       "      <td>OTROS</td>\n",
       "      <td>0.492055</td>\n",
       "      <td>38</td>\n",
       "      <td>0.208725</td>\n",
       "      <td>0.844444</td>\n",
       "    </tr>\n",
       "    <tr>\n",
       "      <th>149999</th>\n",
       "      <td>5e18105b312bcb86cf89b432</td>\n",
       "      <td>9223184668084986768</td>\n",
       "      <td>1</td>\n",
       "      <td>MODA</td>\n",
       "      <td>1.039930</td>\n",
       "      <td>4</td>\n",
       "      <td>0.441129</td>\n",
       "      <td>0.088889</td>\n",
       "    </tr>\n",
       "  </tbody>\n",
       "</table>\n",
       "</div>"
      ],
      "text/plain": [
       "                             _id            documento  tipo_doc  \\\n",
       "149995  5e18105b312bcb86cf89b42e  9222457444389231440         1   \n",
       "149996  5e18105b312bcb86cf89b42f  9222457444389231440         1   \n",
       "149997  5e18105b312bcb86cf89b430  9223184668084986768         1   \n",
       "149998  5e18105b312bcb86cf89b431  9223184668084986768         1   \n",
       "149999  5e18105b312bcb86cf89b432  9223184668084986768         1   \n",
       "\n",
       "                       categoria  mnt_trx_mm  num_trx  pct_mnt_tot  \\\n",
       "149995                     HOGAR    1.060000       19     0.294444   \n",
       "149996  SALUD Y CUIDADO PERSONAL    0.810000       13     0.225000   \n",
       "149997                    COMIDA    0.825444        3     0.350146   \n",
       "149998                     OTROS    0.492055       38     0.208725   \n",
       "149999                      MODA    1.039930        4     0.441129   \n",
       "\n",
       "        pct_num_trx_tot  \n",
       "149995         0.316667  \n",
       "149996         0.216667  \n",
       "149997         0.066667  \n",
       "149998         0.844444  \n",
       "149999         0.088889  "
      ]
     },
     "execution_count": 5,
     "metadata": {},
     "output_type": "execute_result"
    }
   ],
   "source": [
    "# To display the bottom 5 rows\n",
    "df.tail()"
   ]
  },
  {
   "cell_type": "code",
   "execution_count": 6,
   "metadata": {},
   "outputs": [
    {
     "data": {
      "text/plain": [
       "_id                 object\n",
       "documento            int64\n",
       "tipo_doc             int64\n",
       "categoria           object\n",
       "mnt_trx_mm         float64\n",
       "num_trx              int64\n",
       "pct_mnt_tot        float64\n",
       "pct_num_trx_tot    float64\n",
       "dtype: object"
      ]
     },
     "execution_count": 6,
     "metadata": {},
     "output_type": "execute_result"
    }
   ],
   "source": [
    "# Checking the data type\n",
    "df.dtypes"
   ]
  },
  {
   "cell_type": "code",
   "execution_count": 7,
   "metadata": {},
   "outputs": [
    {
     "data": {
      "text/plain": [
       "(150000, 8)"
      ]
     },
     "execution_count": 7,
     "metadata": {},
     "output_type": "execute_result"
    }
   ],
   "source": [
    "# Total number of rows and columns in order to know the size of the data\n",
    "df.shape"
   ]
  },
  {
   "cell_type": "code",
   "execution_count": 26,
   "metadata": {},
   "outputs": [
    {
     "data": {
      "text/plain": [
       "_id                150000\n",
       "documento          150000\n",
       "tipo_doc           150000\n",
       "categoria          150000\n",
       "mnt_trx_mm         150000\n",
       "num_trx            150000\n",
       "pct_mnt_tot        150000\n",
       "pct_num_trx_tot    150000\n",
       "dtype: int64"
      ]
     },
     "execution_count": 26,
     "metadata": {},
     "output_type": "execute_result"
    }
   ],
   "source": [
    "df.count() "
   ]
  },
  {
   "cell_type": "code",
   "execution_count": 27,
   "metadata": {},
   "outputs": [
    {
     "name": "stdout",
     "output_type": "stream",
     "text": [
      "Number of duplicate rows:  (0, 8)\n"
     ]
    }
   ],
   "source": [
    "# Look for rows containing duplicated data\n",
    "duplicate_rows_df = df[df.duplicated()]\n",
    "print(\"Number of duplicate rows: \", duplicate_rows_df.shape)"
   ]
  },
  {
   "cell_type": "code",
   "execution_count": 32,
   "metadata": {},
   "outputs": [
    {
     "data": {
      "text/plain": [
       "_id                0\n",
       "documento          0\n",
       "tipo_doc           0\n",
       "categoria          0\n",
       "mnt_trx_mm         0\n",
       "num_trx            0\n",
       "pct_mnt_tot        0\n",
       "pct_num_trx_tot    0\n",
       "dtype: int64"
      ]
     },
     "execution_count": 32,
     "metadata": {},
     "output_type": "execute_result"
    }
   ],
   "source": [
    "# Look for rows with nulls or nas values\n",
    "df.isnull().sum()"
   ]
  },
  {
   "cell_type": "code",
   "execution_count": 35,
   "metadata": {
    "scrolled": true
   },
   "outputs": [
    {
     "data": {
      "text/plain": [
       "_id                150000\n",
       "documento          150000\n",
       "tipo_doc           150000\n",
       "categoria          150000\n",
       "mnt_trx_mm         150000\n",
       "num_trx            150000\n",
       "pct_mnt_tot        150000\n",
       "pct_num_trx_tot    150000\n",
       "dtype: int64"
      ]
     },
     "execution_count": 35,
     "metadata": {},
     "output_type": "execute_result"
    }
   ],
   "source": [
    "# Drop nas values and count the new len of each serie\n",
    "df = df.dropna() \n",
    "df.count()"
   ]
  },
  {
   "cell_type": "code",
   "execution_count": 13,
   "metadata": {},
   "outputs": [
    {
     "data": {
      "text/plain": [
       "40879"
      ]
     },
     "execution_count": 13,
     "metadata": {},
     "output_type": "execute_result"
    }
   ],
   "source": [
    "# View unique types for series with \"limited\" values\n",
    "len(df[\"documento\"].unique())"
   ]
  },
  {
   "cell_type": "code",
   "execution_count": 14,
   "metadata": {},
   "outputs": [
    {
     "data": {
      "text/plain": [
       "array([2, 1], dtype=int64)"
      ]
     },
     "execution_count": 14,
     "metadata": {},
     "output_type": "execute_result"
    }
   ],
   "source": [
    "df[\"tipo_doc\"].unique()"
   ]
  },
  {
   "cell_type": "code",
   "execution_count": 15,
   "metadata": {},
   "outputs": [
    {
     "data": {
      "text/plain": [
       "array(['TRANSPORTE', 'HOGAR', 'SALUD Y CUIDADO PERSONAL',\n",
       "       'TECNOLOGÍA Y COMUNICACIONES', 'ENTRETENIMIENTO', 'VIAJES',\n",
       "       'OTROS', 'MODA', 'COMIDA', 'RETIROS EN EFECTIVO', 'EDUCACIÓN',\n",
       "       'MASCOTAS'], dtype=object)"
      ]
     },
     "execution_count": 15,
     "metadata": {},
     "output_type": "execute_result"
    }
   ],
   "source": [
    "df[\"categoria\"].unique()"
   ]
  },
  {
   "cell_type": "code",
   "execution_count": 16,
   "metadata": {},
   "outputs": [
    {
     "data": {
      "text/plain": [
       "12"
      ]
     },
     "execution_count": 16,
     "metadata": {},
     "output_type": "execute_result"
    }
   ],
   "source": [
    "\n",
    "len(df[\"categoria\"].unique())"
   ]
  },
  {
   "cell_type": "code",
   "execution_count": 38,
   "metadata": {},
   "outputs": [
    {
     "data": {
      "text/plain": [
       "0"
      ]
     },
     "execution_count": 38,
     "metadata": {},
     "output_type": "execute_result"
    }
   ],
   "source": [
    "# Look for weird values in numeric values for example negatives\n",
    "len(df[df[\"mnt_trx_mm\"]<0])"
   ]
  },
  {
   "cell_type": "code",
   "execution_count": 40,
   "metadata": {},
   "outputs": [
    {
     "data": {
      "text/plain": [
       "0"
      ]
     },
     "execution_count": 40,
     "metadata": {},
     "output_type": "execute_result"
    }
   ],
   "source": [
    "len(df[df[\"num_trx\"]<0])"
   ]
  },
  {
   "cell_type": "code",
   "execution_count": 49,
   "metadata": {},
   "outputs": [
    {
     "data": {
      "text/plain": [
       "0"
      ]
     },
     "execution_count": 49,
     "metadata": {},
     "output_type": "execute_result"
    }
   ],
   "source": [
    "len(df[df[\"pct_mnt_tot\"]<0])"
   ]
  },
  {
   "cell_type": "code",
   "execution_count": 43,
   "metadata": {},
   "outputs": [
    {
     "data": {
      "text/plain": [
       "0"
      ]
     },
     "execution_count": 43,
     "metadata": {},
     "output_type": "execute_result"
    }
   ],
   "source": [
    "len(df[df[\"pct_num_trx_tot\"]<0])"
   ]
  },
  {
   "cell_type": "markdown",
   "metadata": {},
   "source": [
    "# Explore data"
   ]
  },
  {
   "cell_type": "code",
   "execution_count": 47,
   "metadata": {
    "scrolled": true
   },
   "outputs": [
    {
     "data": {
      "text/plain": [
       "<matplotlib.axes._subplots.AxesSubplot at 0x13ab56d0>"
      ]
     },
     "execution_count": 47,
     "metadata": {},
     "output_type": "execute_result"
    },
    {
     "data": {
      "image/png": "[encoded data removed]",
      "text/plain": [
       "<Figure size 432x288 with 1 Axes>"
      ]
     },
     "metadata": {
      "needs_background": "light"
     },
     "output_type": "display_data"
    }
   ],
   "source": [
    "%matplotlib inline\n",
    "sns.boxplot(x=df[\"mnt_trx_mm\"])"
   ]
  },
  {
   "cell_type": "code",
   "execution_count": 20,
   "metadata": {},
   "outputs": [
    {
     "data": {
      "text/plain": [
       "<matplotlib.axes._subplots.AxesSubplot at 0x13649c90>"
      ]
     },
     "execution_count": 20,
     "metadata": {},
     "output_type": "execute_result"
    },
    {
     "data": {
      "image/png": "[encoded data removed]",
      "text/plain": [
       "<Figure size 432x288 with 1 Axes>"
      ]
     },
     "metadata": {
      "needs_background": "light"
     },
     "output_type": "display_data"
    }
   ],
   "source": [
    "sns.boxplot(x=df[\"num_trx\"])"
   ]
  },
  {
   "cell_type": "code",
   "execution_count": 63,
   "metadata": {},
   "outputs": [
    {
     "data": {
      "image/png": "[encoded data removed]",
      "text/plain": [
       "<Figure size 432x288 with 1 Axes>"
      ]
     },
     "metadata": {
      "needs_background": "light"
     },
     "output_type": "display_data"
    }
   ],
   "source": [
    "sns.boxplot(x=df[\"pct_mnt_tot\"])\n"
   ]
  },
  {
   "cell_type": "code",
   "execution_count": 70,
   "metadata": {},
   "outputs": [
    {
     "name": "stdout",
     "output_type": "stream",
     "text": [
      "0.030928770997617733\n",
      "0.11970888444747396\n",
      "0.39204545454545453\n",
      "0.8927267946541739\n"
     ]
    }
   ],
   "source": [
    "Q1 = df[\"pct_mnt_tot\"].quantile(0.25)\n",
    "Q2 = df[\"pct_mnt_tot\"].quantile(0.5)\n",
    "Q3 = df[\"pct_mnt_tot\"].quantile(0.75)\n",
    "Q4 = df[\"pct_mnt_tot\"].quantile(0.9)\n",
    "print(Q1)\n",
    "print(Q2)\n",
    "print(Q3)\n",
    "print(Q4)"
   ]
  },
  {
   "cell_type": "code",
   "execution_count": 51,
   "metadata": {},
   "outputs": [
    {
     "data": {
      "text/plain": [
       "<matplotlib.axes._subplots.AxesSubplot at 0x13b74390>"
      ]
     },
     "execution_count": 51,
     "metadata": {},
     "output_type": "execute_result"
    },
    {
     "data": {
      "image/png": "[encoded data removed]",
      "text/plain": [
       "<Figure size 432x288 with 1 Axes>"
      ]
     },
     "metadata": {
      "needs_background": "light"
     },
     "output_type": "display_data"
    }
   ],
   "source": [
    "sns.boxplot(x=df[\"pct_num_trx_tot\"])"
   ]
  },
  {
   "cell_type": "code",
   "execution_count": 79,
   "metadata": {},
   "outputs": [
    {
     "data": {
      "image/png": "[encoded data removed]",
      "text/plain": [
       "<Figure size 720x360 with 1 Axes>"
      ]
     },
     "metadata": {
      "needs_background": "light"
     },
     "output_type": "display_data"
    }
   ],
   "source": [
    "# Plotting a bar chart for type of doc\n",
    "df[\"tipo_doc\"].value_counts().nlargest(50).plot(kind='bar', figsize=(10,5))\n",
    "plt.title(\"Clients in each category\")\n",
    "plt.ylabel(\"Number of clients\")\n",
    "plt.xlabel(\"Category\");"
   ]
  },
  {
   "cell_type": "code",
   "execution_count": 62,
   "metadata": {},
   "outputs": [
    {
     "data": {
      "image/png": "[encoded data removed]",
      "text/plain": [
       "<Figure size 720x360 with 1 Axes>"
      ]
     },
     "metadata": {
      "needs_background": "light"
     },
     "output_type": "display_data"
    }
   ],
   "source": [
    "# Plotting a bar chart for categories\n",
    "df[\"categoria\"].value_counts().nlargest(50).plot(kind='bar', figsize=(10,5))\n",
    "plt.title(\"Clients in each category\")\n",
    "plt.ylabel(\"Number of clients\")\n",
    "plt.xlabel(\"Category\");"
   ]
  },
  {
   "cell_type": "code",
   "execution_count": 71,
   "metadata": {},
   "outputs": [
    {
     "data": {
      "text/html": [
       "<div>\n",
       "<style scoped>\n",
       "    .dataframe tbody tr th:only-of-type {\n",
       "        vertical-align: middle;\n",
       "    }\n",
       "\n",
       "    .dataframe tbody tr th {\n",
       "        vertical-align: top;\n",
       "    }\n",
       "\n",
       "    .dataframe thead th {\n",
       "        text-align: right;\n",
       "    }\n",
       "</style>\n",
       "<table border=\"1\" class=\"dataframe\">\n",
       "  <thead>\n",
       "    <tr style=\"text-align: right;\">\n",
       "      <th></th>\n",
       "      <th>documento</th>\n",
       "      <th>tipo_doc</th>\n",
       "      <th>mnt_trx_mm</th>\n",
       "      <th>num_trx</th>\n",
       "      <th>pct_mnt_tot</th>\n",
       "      <th>pct_num_trx_tot</th>\n",
       "    </tr>\n",
       "  </thead>\n",
       "  <tbody>\n",
       "    <tr>\n",
       "      <th>count</th>\n",
       "      <td>1.500000e+05</td>\n",
       "      <td>150000.000000</td>\n",
       "      <td>150000.000000</td>\n",
       "      <td>150000.000000</td>\n",
       "      <td>150000.000000</td>\n",
       "      <td>150000.000000</td>\n",
       "    </tr>\n",
       "    <tr>\n",
       "      <th>mean</th>\n",
       "      <td>1.344256e+16</td>\n",
       "      <td>1.170667</td>\n",
       "      <td>24.967153</td>\n",
       "      <td>12.742507</td>\n",
       "      <td>0.266855</td>\n",
       "      <td>0.272582</td>\n",
       "    </tr>\n",
       "    <tr>\n",
       "      <th>std</th>\n",
       "      <td>5.318371e+18</td>\n",
       "      <td>0.376219</td>\n",
       "      <td>612.668753</td>\n",
       "      <td>24.462331</td>\n",
       "      <td>0.318097</td>\n",
       "      <td>0.301731</td>\n",
       "    </tr>\n",
       "    <tr>\n",
       "      <th>min</th>\n",
       "      <td>-9.222147e+18</td>\n",
       "      <td>1.000000</td>\n",
       "      <td>0.000000</td>\n",
       "      <td>1.000000</td>\n",
       "      <td>0.000000</td>\n",
       "      <td>0.000665</td>\n",
       "    </tr>\n",
       "    <tr>\n",
       "      <th>25%</th>\n",
       "      <td>-4.598571e+18</td>\n",
       "      <td>1.000000</td>\n",
       "      <td>0.150000</td>\n",
       "      <td>2.000000</td>\n",
       "      <td>0.030929</td>\n",
       "      <td>0.048193</td>\n",
       "    </tr>\n",
       "    <tr>\n",
       "      <th>50%</th>\n",
       "      <td>3.726371e+15</td>\n",
       "      <td>1.000000</td>\n",
       "      <td>0.510000</td>\n",
       "      <td>4.000000</td>\n",
       "      <td>0.119709</td>\n",
       "      <td>0.142857</td>\n",
       "    </tr>\n",
       "    <tr>\n",
       "      <th>75%</th>\n",
       "      <td>4.631182e+18</td>\n",
       "      <td>1.000000</td>\n",
       "      <td>1.744728</td>\n",
       "      <td>13.000000</td>\n",
       "      <td>0.392045</td>\n",
       "      <td>0.400000</td>\n",
       "    </tr>\n",
       "    <tr>\n",
       "      <th>max</th>\n",
       "      <td>9.223185e+18</td>\n",
       "      <td>2.000000</td>\n",
       "      <td>72623.371734</td>\n",
       "      <td>806.000000</td>\n",
       "      <td>1.000000</td>\n",
       "      <td>1.000000</td>\n",
       "    </tr>\n",
       "  </tbody>\n",
       "</table>\n",
       "</div>"
      ],
      "text/plain": [
       "          documento       tipo_doc     mnt_trx_mm        num_trx  \\\n",
       "count  1.500000e+05  150000.000000  150000.000000  150000.000000   \n",
       "mean   1.344256e+16       1.170667      24.967153      12.742507   \n",
       "std    5.318371e+18       0.376219     612.668753      24.462331   \n",
       "min   -9.222147e+18       1.000000       0.000000       1.000000   \n",
       "25%   -4.598571e+18       1.000000       0.150000       2.000000   \n",
       "50%    3.726371e+15       1.000000       0.510000       4.000000   \n",
       "75%    4.631182e+18       1.000000       1.744728      13.000000   \n",
       "max    9.223185e+18       2.000000   72623.371734     806.000000   \n",
       "\n",
       "         pct_mnt_tot  pct_num_trx_tot  \n",
       "count  150000.000000    150000.000000  \n",
       "mean        0.266855         0.272582  \n",
       "std         0.318097         0.301731  \n",
       "min         0.000000         0.000665  \n",
       "25%         0.030929         0.048193  \n",
       "50%         0.119709         0.142857  \n",
       "75%         0.392045         0.400000  \n",
       "max         1.000000         1.000000  "
      ]
     },
     "execution_count": 71,
     "metadata": {},
     "output_type": "execute_result"
    }
   ],
   "source": [
    "df.describe()"
   ]
  },
  {
   "cell_type": "code",
   "execution_count": 72,
   "metadata": {},
   "outputs": [
    {
     "name": "stdout",
     "output_type": "stream",
     "text": [
      "<class 'pandas.core.frame.DataFrame'>\n",
      "Int64Index: 150000 entries, 0 to 149999\n",
      "Data columns (total 8 columns):\n",
      "_id                150000 non-null object\n",
      "documento          150000 non-null int64\n",
      "tipo_doc           150000 non-null int64\n",
      "categoria          150000 non-null object\n",
      "mnt_trx_mm         150000 non-null float64\n",
      "num_trx            150000 non-null int64\n",
      "pct_mnt_tot        150000 non-null float64\n",
      "pct_num_trx_tot    150000 non-null float64\n",
      "dtypes: float64(3), int64(3), object(2)\n",
      "memory usage: 9.2+ MB\n"
     ]
    }
   ],
   "source": [
    "df.info()"
   ]
  },
  {
   "cell_type": "code",
   "execution_count": 87,
   "metadata": {},
   "outputs": [
    {
     "data": {
      "image/png": "[encoded data removed]",
      "text/plain": [
       "<Figure size 432x288 with 1 Axes>"
      ]
     },
     "metadata": {
      "needs_background": "light"
     },
     "output_type": "display_data"
    }
   ],
   "source": [
    "d1 = df[\"mnt_trx_mm\"][df[\"tipo_doc\"]==1].sum()\n",
    "d2 = df[\"mnt_trx_mm\"][df[\"tipo_doc\"]==2].sum()\n",
    "df2 =  pd.DataFrame({'Type of doc':['1','2'], 'amount in million':[d1,d2]})\n",
    "ax = df2.plot.bar(x='Type of doc', y='amount in million', rot=0)"
   ]
  },
  {
   "cell_type": "code",
   "execution_count": null,
   "metadata": {},
   "outputs": [],
   "source": []
  }
 ],
 "metadata": {
  "kernelspec": {
   "display_name": "Python 3",
   "language": "python",
   "name": "python3"
  },
  "language_info": {
   "codemirror_mode": {
    "name": "ipython",
    "version": 3
   },
   "file_extension": ".py",
   "mimetype": "text/x-python",
   "name": "python",
   "nbconvert_exporter": "python",
   "pygments_lexer": "ipython3",
   "version": "3.6.4"
  }
 },
 "nbformat": 4,
 "nbformat_minor": 1
}
